{
 "cells": [
  {
   "cell_type": "code",
   "execution_count": 6,
   "metadata": {},
   "outputs": [],
   "source": [
    "import webbrowser\n",
    "import os\n",
    "import pandas as pd\n"
   ]
  },
  {
   "cell_type": "code",
   "execution_count": null,
   "metadata": {
    "collapsed": true
   },
   "outputs": [],
   "source": [
    "file = pd.read_excel(r'C:\\Users\\hchintada\\Documents\\Adhoc tasks for Daniel\\Spend Downloads\\local-urls.xlsx',\n",
    "                     sheet_name = 'Table', skiprows=1, usecols = \"B:D\")\n",
    "file.head()"
   ]
  },
  {
   "cell_type": "code",
   "execution_count": 6,
   "metadata": {
    "collapsed": true
   },
   "outputs": [],
   "source": [
    "#file.drop(['Unnamed: 0','MissingData','SourceURL','MissingData','NewSourceURL'],axis = 1,inplace=True)"
   ]
  },
  {
   "cell_type": "code",
   "execution_count": 8,
   "metadata": {
    "collapsed": true
   },
   "outputs": [],
   "source": [
    "#file.dropna(inplace=True)"
   ]
  },
  {
   "cell_type": "markdown",
   "metadata": {},
   "source": [
    "## Open list of URLS"
   ]
  },
  {
   "cell_type": "code",
   "execution_count": 7,
   "metadata": {},
   "outputs": [],
   "source": [
    "s = r\"http://www.chorley.gov.uk/,http://www.crawley.gov.uk/,http://www.easthants.gov.uk/,http://www.eastherts.gov.uk/,http://www.fenland.gov.uk/,http://www.gloucester.gov.uk/,http://www.harlow.gov.uk/,http://www.hinckley-bosworth.gov.uk/,http://www.huntingdonshire.gov.uk,http://www.hyndburnbc.gov.uk,http://www.kettering.gov.uk/,http://www.molevalley.gov.uk/,http://www.northdevon.gov.uk/,http://www.rushcliffe.gov.uk/,http://www.rushmoor.gov.uk/,http://www.staffsmoorlands.gov.uk/,http://www.stevenage.gov.uk/,http://www.whitehorsedc.gov.uk/\"\n",
    "\n",
    "file = s.split(',')\n",
    "\n",
    "count = 0\n",
    "for i in file:\n",
    "    try: \n",
    "        webbrowser.open_new_tab(i)\n",
    "    except TypeError:\n",
    "        print(i)\n",
    "    count+=1\n",
    "    if count == 20:\n",
    "        if input(\"open remaining urls?\") == 'y':\n",
    "            webbrowser.open_new_tab(i)\n",
    "            count+=1  "
   ]
  },
  {
   "cell_type": "code",
   "execution_count": 4,
   "metadata": {},
   "outputs": [
    {
     "data": {
      "text/plain": [
       "(141, 3)"
      ]
     },
     "execution_count": 4,
     "metadata": {},
     "output_type": "execute_result"
    }
   ],
   "source": [
    "file.shape"
   ]
  },
  {
   "cell_type": "markdown",
   "metadata": {},
   "source": [
    "Create directories"
   ]
  },
  {
   "cell_type": "code",
   "execution_count": 11,
   "metadata": {
    "collapsed": true
   },
   "outputs": [],
   "source": [
    "for i in file.OrganisationName:\n",
    "    os.mkdir(r'C:\\Users\\hchintada\\Documents\\Adhoc tasks for Daniel\\Spend Downloads\\FRS_201718\\\\'+str(i))"
   ]
  },
  {
   "cell_type": "code",
   "execution_count": 7,
   "metadata": {},
   "outputs": [
    {
     "name": "stdout",
     "output_type": "stream",
     "text": [
      "open remaining urls?y\n"
     ]
    }
   ],
   "source": [
    "count = 0\n",
    "for i in good_urls.URL:\n",
    "    try: \n",
    "        webbrowser.open_new_tab(i)\n",
    "    except TypeError:\n",
    "        print(i)\n",
    "    count+=1\n",
    "    if count == 20:\n",
    "        if input(\"open remaining urls?\") == 'y':\n",
    "            webbrowser.open_new_tab(i)\n",
    "            count+=1        "
   ]
  },
  {
   "cell_type": "code",
   "execution_count": 19,
   "metadata": {
    "scrolled": true
   },
   "outputs": [
    {
     "name": "stdout",
     "output_type": "stream",
     "text": [
      "In Avon Fire and Rescue Service, file count is:\n",
      "12\n",
      "In Bedfordshire Fire and Rescue Service, file count is:\n",
      "9\n",
      "In Buckinghamshire Fire and Rescue Service, file count is:\n",
      "12\n",
      "In Cambridgeshire Fire and Rescue Service, file count is:\n",
      "1\n",
      "In Cheshire Fire and Rescue Service, file count is:\n",
      "12\n",
      "In Cleveland Fire Brigade, file count is:\n",
      "12\n",
      "In Cornwall Fire and Rescue Service, file count is:\n",
      "0\n",
      "In County Durham and Darlington Fire and Rescue Service, file count is:\n",
      "12\n",
      "In Derbyshire Fire and Rescue Service, file count is:\n",
      "12\n",
      "In Devon and Somerset Fire and Rescue Service, file count is:\n",
      "12\n",
      "In Dorset and Wiltshire Fire and Rescue Service, file count is:\n",
      "12\n",
      "In East Sussex Fire and Rescue Service, file count is:\n",
      "2\n",
      "In Essex County Fire and Rescue Service, file count is:\n",
      "12\n",
      "In Greater Manchester Fire and Rescue Service, file count is:\n",
      "1\n",
      "In Hampshire Fire and Rescue Service, file count is:\n",
      "12\n",
      "In Hereford and Worcester Fire and Rescue Service, file count is:\n",
      "12\n",
      "In Humberside Fire and Rescue Service, file count is:\n",
      "12\n",
      "In Kent Fire and Rescue Service, file count is:\n",
      "12\n",
      "In Lancashire Fire and Rescue Service, file count is:\n",
      "0\n",
      "In Leicestershire Fire and Rescue Service, file count is:\n",
      "12\n",
      "In London Fire Brigade, file count is:\n",
      "12\n",
      "In Merseyside Fire and Rescue Service, file count is:\n",
      "12\n",
      "In North Yorkshire Fire and Rescue Service, file count is:\n",
      "12\n",
      "In Royal Berkshire Fire and Rescue Service, file count is:\n",
      "10\n",
      "In Shropshire Fire and Rescue Service, file count is:\n",
      "4\n",
      "In South Yorkshire Fire and Rescue Service, file count is:\n",
      "4\n",
      "In Staffordshire Fire and Rescue Service, file count is:\n",
      "12\n",
      "In Tyne and Wear Fire and Rescue Service, file count is:\n",
      "0\n",
      "In West Midlands Fire Service, file count is:\n",
      "1\n",
      "In West Yorkshire Fire and Rescue Service, file count is:\n",
      "4\n"
     ]
    }
   ],
   "source": [
    "import os\n",
    "path = r'C:\\Users\\hchintada\\Documents\\Adhoc tasks for Daniel\\Spend Downloads\\FRS_201718'\n",
    "for folder in os.listdir(path):\n",
    "    f = path + '\\\\' + str(folder)\n",
    "    print(\"In {}, file count is:\\n{}\".format(folder, len(os.listdir(f))))"
   ]
  },
  {
   "cell_type": "code",
   "execution_count": 8,
   "metadata": {
    "collapsed": true
   },
   "outputs": [],
   "source": [
    "import webbrowser\n",
    "import sys\n",
    "import pandas as pd"
   ]
  },
  {
   "cell_type": "code",
   "execution_count": 7,
   "metadata": {
    "collapsed": true
   },
   "outputs": [],
   "source": [
    "l = ['ProfileId', 'ContentId', 'Sectors', 'ProfileName', 'Link', 'PublishDate']\n",
    "file = pd.read_excel(r'C:\\Users\\hchintada\\Documents\\Adhoc for Claire\\GDPR_Local.xlsx',sheetname = 'Local',names = l,skiprows=384)\n",
    "file.drop(['Sectors','PublishDate'],axis = 1,inplace=True)\n",
    "data = file.drop(['ProfileId','ProfileName'],axis = 1,inplace=False)\n",
    "urls = data"
   ]
  },
  {
   "cell_type": "code",
   "execution_count": 8,
   "metadata": {},
   "outputs": [
    {
     "name": "stdout",
     "output_type": "stream",
     "text": [
      "do you want to open urls? Enter y for yes and any other letter for no: y\n",
      "do you want to open urls? Enter y for yes and any other letter for no: y\n",
      "do you want to open urls? Enter y for yes and any other letter for no: y\n",
      "do you want to open urls? Enter y for yes and any other letter for no: y\n",
      "do you want to open urls? Enter y for yes and any other letter for no: y\n",
      "do you want to open urls? Enter y for yes and any other letter for no: y\n",
      "do you want to open urls? Enter y for yes and any other letter for no: y\n",
      "do you want to open urls? Enter y for yes and any other letter for no: y\n",
      "do you want to open urls? Enter y for yes and any other letter for no: y\n",
      "do you want to open urls? Enter y for yes and any other letter for no: y\n",
      "do you want to open urls? Enter y for yes and any other letter for no: n\n",
      "finished till the ContentId: 1021534\n"
     ]
    }
   ],
   "source": [
    "#contentid = int(input('Enter the last Content id: '))\n",
    "while True:\n",
    "    x = input('do you want to open urls? Enter y for yes and any other letter for no: ')\n",
    "    if x == 'y':\n",
    "        count = 0\n",
    "        for index, row in urls.iterrows():\n",
    "            if count == 20:\n",
    "                urls = urls.iloc[20:]\n",
    "                break\n",
    "            else:\n",
    "                #print(row['ContentId'], row['Link'])\n",
    "                contentid = row['ContentId']\n",
    "                webbrowser.open_new_tab(row['Link'])\n",
    "            count+=1\n",
    "    else:\n",
    "        print('finished till the ContentId:',contentid)\n",
    "        break"
   ]
  }
 ],
 "metadata": {
  "kernelspec": {
   "display_name": "Python 3",
   "language": "python",
   "name": "python3"
  },
  "language_info": {
   "codemirror_mode": {
    "name": "ipython",
    "version": 3
   },
   "file_extension": ".py",
   "mimetype": "text/x-python",
   "name": "python",
   "nbconvert_exporter": "python",
   "pygments_lexer": "ipython3",
   "version": "3.6.1"
  }
 },
 "nbformat": 4,
 "nbformat_minor": 2
}
